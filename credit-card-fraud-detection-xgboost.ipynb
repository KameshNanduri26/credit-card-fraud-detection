{
 "cells": [
  {
   "cell_type": "markdown",
   "id": "f4d7f4b1",
   "metadata": {
    "papermill": {
     "duration": 0.027331,
     "end_time": "2022-05-21T10:43:37.857056",
     "exception": false,
     "start_time": "2022-05-21T10:43:37.829725",
     "status": "completed"
    },
    "tags": []
   },
   "source": [
    "# Importing essential libraries"
   ]
  },
  {
   "cell_type": "code",
   "execution_count": 1,
   "id": "01559859",
   "metadata": {
    "execution": {
     "iopub.execute_input": "2022-05-21T10:43:37.913076Z",
     "iopub.status.busy": "2022-05-21T10:43:37.912678Z",
     "iopub.status.idle": "2022-05-21T10:43:38.985569Z",
     "shell.execute_reply": "2022-05-21T10:43:38.984529Z"
    },
    "papermill": {
     "duration": 1.104635,
     "end_time": "2022-05-21T10:43:38.988680",
     "exception": false,
     "start_time": "2022-05-21T10:43:37.884045",
     "status": "completed"
    },
    "tags": []
   },
   "outputs": [],
   "source": [
    "import numpy as np\n",
    "import pandas as pd\n",
    "import matplotlib.pyplot as plt\n",
    "%matplotlib inline\n",
    "import seaborn as sns"
   ]
  },
  {
   "cell_type": "markdown",
   "id": "7547f481",
   "metadata": {
    "papermill": {
     "duration": 0.041403,
     "end_time": "2022-05-21T10:43:39.073317",
     "exception": false,
     "start_time": "2022-05-21T10:43:39.031914",
     "status": "completed"
    },
    "tags": []
   },
   "source": [
    "# Reading the dataset"
   ]
  },
  {
   "cell_type": "code",
   "execution_count": 2,
   "id": "0180e58d",
   "metadata": {
    "execution": {
     "iopub.execute_input": "2022-05-21T10:43:39.167853Z",
     "iopub.status.busy": "2022-05-21T10:43:39.167212Z",
     "iopub.status.idle": "2022-05-21T10:43:42.663307Z",
     "shell.execute_reply": "2022-05-21T10:43:42.662529Z"
    },
    "papermill": {
     "duration": 3.549809,
     "end_time": "2022-05-21T10:43:42.666003",
     "exception": false,
     "start_time": "2022-05-21T10:43:39.116194",
     "status": "completed"
    },
    "tags": []
   },
   "outputs": [
    {
     "data": {
      "text/html": [
       "<div>\n",
       "<style scoped>\n",
       "    .dataframe tbody tr th:only-of-type {\n",
       "        vertical-align: middle;\n",
       "    }\n",
       "\n",
       "    .dataframe tbody tr th {\n",
       "        vertical-align: top;\n",
       "    }\n",
       "\n",
       "    .dataframe thead th {\n",
       "        text-align: right;\n",
       "    }\n",
       "</style>\n",
       "<table border=\"1\" class=\"dataframe\">\n",
       "  <thead>\n",
       "    <tr style=\"text-align: right;\">\n",
       "      <th></th>\n",
       "      <th>Time</th>\n",
       "      <th>V1</th>\n",
       "      <th>V2</th>\n",
       "      <th>V3</th>\n",
       "      <th>V4</th>\n",
       "      <th>V5</th>\n",
       "      <th>V6</th>\n",
       "      <th>V7</th>\n",
       "      <th>V8</th>\n",
       "      <th>V9</th>\n",
       "      <th>...</th>\n",
       "      <th>V21</th>\n",
       "      <th>V22</th>\n",
       "      <th>V23</th>\n",
       "      <th>V24</th>\n",
       "      <th>V25</th>\n",
       "      <th>V26</th>\n",
       "      <th>V27</th>\n",
       "      <th>V28</th>\n",
       "      <th>Amount</th>\n",
       "      <th>Class</th>\n",
       "    </tr>\n",
       "  </thead>\n",
       "  <tbody>\n",
       "    <tr>\n",
       "      <th>0</th>\n",
       "      <td>0.0</td>\n",
       "      <td>-1.359807</td>\n",
       "      <td>-0.072781</td>\n",
       "      <td>2.536347</td>\n",
       "      <td>1.378155</td>\n",
       "      <td>-0.338321</td>\n",
       "      <td>0.462388</td>\n",
       "      <td>0.239599</td>\n",
       "      <td>0.098698</td>\n",
       "      <td>0.363787</td>\n",
       "      <td>...</td>\n",
       "      <td>-0.018307</td>\n",
       "      <td>0.277838</td>\n",
       "      <td>-0.110474</td>\n",
       "      <td>0.066928</td>\n",
       "      <td>0.128539</td>\n",
       "      <td>-0.189115</td>\n",
       "      <td>0.133558</td>\n",
       "      <td>-0.021053</td>\n",
       "      <td>149.62</td>\n",
       "      <td>0</td>\n",
       "    </tr>\n",
       "    <tr>\n",
       "      <th>1</th>\n",
       "      <td>0.0</td>\n",
       "      <td>1.191857</td>\n",
       "      <td>0.266151</td>\n",
       "      <td>0.166480</td>\n",
       "      <td>0.448154</td>\n",
       "      <td>0.060018</td>\n",
       "      <td>-0.082361</td>\n",
       "      <td>-0.078803</td>\n",
       "      <td>0.085102</td>\n",
       "      <td>-0.255425</td>\n",
       "      <td>...</td>\n",
       "      <td>-0.225775</td>\n",
       "      <td>-0.638672</td>\n",
       "      <td>0.101288</td>\n",
       "      <td>-0.339846</td>\n",
       "      <td>0.167170</td>\n",
       "      <td>0.125895</td>\n",
       "      <td>-0.008983</td>\n",
       "      <td>0.014724</td>\n",
       "      <td>2.69</td>\n",
       "      <td>0</td>\n",
       "    </tr>\n",
       "    <tr>\n",
       "      <th>2</th>\n",
       "      <td>1.0</td>\n",
       "      <td>-1.358354</td>\n",
       "      <td>-1.340163</td>\n",
       "      <td>1.773209</td>\n",
       "      <td>0.379780</td>\n",
       "      <td>-0.503198</td>\n",
       "      <td>1.800499</td>\n",
       "      <td>0.791461</td>\n",
       "      <td>0.247676</td>\n",
       "      <td>-1.514654</td>\n",
       "      <td>...</td>\n",
       "      <td>0.247998</td>\n",
       "      <td>0.771679</td>\n",
       "      <td>0.909412</td>\n",
       "      <td>-0.689281</td>\n",
       "      <td>-0.327642</td>\n",
       "      <td>-0.139097</td>\n",
       "      <td>-0.055353</td>\n",
       "      <td>-0.059752</td>\n",
       "      <td>378.66</td>\n",
       "      <td>0</td>\n",
       "    </tr>\n",
       "    <tr>\n",
       "      <th>3</th>\n",
       "      <td>1.0</td>\n",
       "      <td>-0.966272</td>\n",
       "      <td>-0.185226</td>\n",
       "      <td>1.792993</td>\n",
       "      <td>-0.863291</td>\n",
       "      <td>-0.010309</td>\n",
       "      <td>1.247203</td>\n",
       "      <td>0.237609</td>\n",
       "      <td>0.377436</td>\n",
       "      <td>-1.387024</td>\n",
       "      <td>...</td>\n",
       "      <td>-0.108300</td>\n",
       "      <td>0.005274</td>\n",
       "      <td>-0.190321</td>\n",
       "      <td>-1.175575</td>\n",
       "      <td>0.647376</td>\n",
       "      <td>-0.221929</td>\n",
       "      <td>0.062723</td>\n",
       "      <td>0.061458</td>\n",
       "      <td>123.50</td>\n",
       "      <td>0</td>\n",
       "    </tr>\n",
       "    <tr>\n",
       "      <th>4</th>\n",
       "      <td>2.0</td>\n",
       "      <td>-1.158233</td>\n",
       "      <td>0.877737</td>\n",
       "      <td>1.548718</td>\n",
       "      <td>0.403034</td>\n",
       "      <td>-0.407193</td>\n",
       "      <td>0.095921</td>\n",
       "      <td>0.592941</td>\n",
       "      <td>-0.270533</td>\n",
       "      <td>0.817739</td>\n",
       "      <td>...</td>\n",
       "      <td>-0.009431</td>\n",
       "      <td>0.798278</td>\n",
       "      <td>-0.137458</td>\n",
       "      <td>0.141267</td>\n",
       "      <td>-0.206010</td>\n",
       "      <td>0.502292</td>\n",
       "      <td>0.219422</td>\n",
       "      <td>0.215153</td>\n",
       "      <td>69.99</td>\n",
       "      <td>0</td>\n",
       "    </tr>\n",
       "  </tbody>\n",
       "</table>\n",
       "<p>5 rows × 31 columns</p>\n",
       "</div>"
      ],
      "text/plain": [
       "   Time        V1        V2        V3        V4        V5        V6        V7  \\\n",
       "0   0.0 -1.359807 -0.072781  2.536347  1.378155 -0.338321  0.462388  0.239599   \n",
       "1   0.0  1.191857  0.266151  0.166480  0.448154  0.060018 -0.082361 -0.078803   \n",
       "2   1.0 -1.358354 -1.340163  1.773209  0.379780 -0.503198  1.800499  0.791461   \n",
       "3   1.0 -0.966272 -0.185226  1.792993 -0.863291 -0.010309  1.247203  0.237609   \n",
       "4   2.0 -1.158233  0.877737  1.548718  0.403034 -0.407193  0.095921  0.592941   \n",
       "\n",
       "         V8        V9  ...       V21       V22       V23       V24       V25  \\\n",
       "0  0.098698  0.363787  ... -0.018307  0.277838 -0.110474  0.066928  0.128539   \n",
       "1  0.085102 -0.255425  ... -0.225775 -0.638672  0.101288 -0.339846  0.167170   \n",
       "2  0.247676 -1.514654  ...  0.247998  0.771679  0.909412 -0.689281 -0.327642   \n",
       "3  0.377436 -1.387024  ... -0.108300  0.005274 -0.190321 -1.175575  0.647376   \n",
       "4 -0.270533  0.817739  ... -0.009431  0.798278 -0.137458  0.141267 -0.206010   \n",
       "\n",
       "        V26       V27       V28  Amount  Class  \n",
       "0 -0.189115  0.133558 -0.021053  149.62      0  \n",
       "1  0.125895 -0.008983  0.014724    2.69      0  \n",
       "2 -0.139097 -0.055353 -0.059752  378.66      0  \n",
       "3 -0.221929  0.062723  0.061458  123.50      0  \n",
       "4  0.502292  0.219422  0.215153   69.99      0  \n",
       "\n",
       "[5 rows x 31 columns]"
      ]
     },
     "execution_count": 2,
     "metadata": {},
     "output_type": "execute_result"
    }
   ],
   "source": [
    "# reading the csv file\n",
    "df = pd.read_csv('../input/creditcardfraud/creditcard.csv')\n",
    "\n",
    "# top 5 rows\n",
    "df.head()"
   ]
  },
  {
   "cell_type": "markdown",
   "id": "b82ecfa1",
   "metadata": {
    "papermill": {
     "duration": 0.02848,
     "end_time": "2022-05-21T10:43:42.723142",
     "exception": false,
     "start_time": "2022-05-21T10:43:42.694662",
     "status": "completed"
    },
    "tags": []
   },
   "source": [
    "# Data Preprocessing"
   ]
  },
  {
   "cell_type": "markdown",
   "id": "21b14a15",
   "metadata": {
    "papermill": {
     "duration": 0.027532,
     "end_time": "2022-05-21T10:43:42.778618",
     "exception": false,
     "start_time": "2022-05-21T10:43:42.751086",
     "status": "completed"
    },
    "tags": []
   },
   "source": [
    "There is no use of **'Time'** column. And the **'Amount'** column values vary in range compared to other columns. We have to normalize the values in **'Amount'** column before feeding it to the model.\n",
    "\n",
    "The other columns values are the result of PCA transformation as mentioned by the author in the details of the dataset. It also means the data was cleaned."
   ]
  },
  {
   "cell_type": "code",
   "execution_count": 3,
   "id": "5660198f",
   "metadata": {
    "execution": {
     "iopub.execute_input": "2022-05-21T10:43:42.835483Z",
     "iopub.status.busy": "2022-05-21T10:43:42.835231Z",
     "iopub.status.idle": "2022-05-21T10:43:43.031282Z",
     "shell.execute_reply": "2022-05-21T10:43:43.030171Z"
    },
    "papermill": {
     "duration": 0.227272,
     "end_time": "2022-05-21T10:43:43.033605",
     "exception": false,
     "start_time": "2022-05-21T10:43:42.806333",
     "status": "completed"
    },
    "tags": []
   },
   "outputs": [],
   "source": [
    "# normalizing Amount column using standardscaler\n",
    "from sklearn.preprocessing import StandardScaler\n",
    "sc = StandardScaler()\n",
    "\n",
    "# creating a new column containing normalized amount values\n",
    "df['normAmount'] = sc.fit_transform(df['Amount'].values.reshape(-1,1))\n",
    "\n",
    "# dropping Time and Amount columns\n",
    "df.drop(['Time','Amount'], axis = 1, inplace = True)"
   ]
  },
  {
   "cell_type": "code",
   "execution_count": 4,
   "id": "32ff18d5",
   "metadata": {
    "execution": {
     "iopub.execute_input": "2022-05-21T10:43:43.090990Z",
     "iopub.status.busy": "2022-05-21T10:43:43.090688Z",
     "iopub.status.idle": "2022-05-21T10:43:43.114716Z",
     "shell.execute_reply": "2022-05-21T10:43:43.113521Z"
    },
    "papermill": {
     "duration": 0.05469,
     "end_time": "2022-05-21T10:43:43.116547",
     "exception": false,
     "start_time": "2022-05-21T10:43:43.061857",
     "status": "completed"
    },
    "tags": []
   },
   "outputs": [
    {
     "data": {
      "text/html": [
       "<div>\n",
       "<style scoped>\n",
       "    .dataframe tbody tr th:only-of-type {\n",
       "        vertical-align: middle;\n",
       "    }\n",
       "\n",
       "    .dataframe tbody tr th {\n",
       "        vertical-align: top;\n",
       "    }\n",
       "\n",
       "    .dataframe thead th {\n",
       "        text-align: right;\n",
       "    }\n",
       "</style>\n",
       "<table border=\"1\" class=\"dataframe\">\n",
       "  <thead>\n",
       "    <tr style=\"text-align: right;\">\n",
       "      <th></th>\n",
       "      <th>V1</th>\n",
       "      <th>V2</th>\n",
       "      <th>V3</th>\n",
       "      <th>V4</th>\n",
       "      <th>V5</th>\n",
       "      <th>V6</th>\n",
       "      <th>V7</th>\n",
       "      <th>V8</th>\n",
       "      <th>V9</th>\n",
       "      <th>V10</th>\n",
       "      <th>...</th>\n",
       "      <th>V21</th>\n",
       "      <th>V22</th>\n",
       "      <th>V23</th>\n",
       "      <th>V24</th>\n",
       "      <th>V25</th>\n",
       "      <th>V26</th>\n",
       "      <th>V27</th>\n",
       "      <th>V28</th>\n",
       "      <th>Class</th>\n",
       "      <th>normAmount</th>\n",
       "    </tr>\n",
       "  </thead>\n",
       "  <tbody>\n",
       "    <tr>\n",
       "      <th>0</th>\n",
       "      <td>-1.359807</td>\n",
       "      <td>-0.072781</td>\n",
       "      <td>2.536347</td>\n",
       "      <td>1.378155</td>\n",
       "      <td>-0.338321</td>\n",
       "      <td>0.462388</td>\n",
       "      <td>0.239599</td>\n",
       "      <td>0.098698</td>\n",
       "      <td>0.363787</td>\n",
       "      <td>0.090794</td>\n",
       "      <td>...</td>\n",
       "      <td>-0.018307</td>\n",
       "      <td>0.277838</td>\n",
       "      <td>-0.110474</td>\n",
       "      <td>0.066928</td>\n",
       "      <td>0.128539</td>\n",
       "      <td>-0.189115</td>\n",
       "      <td>0.133558</td>\n",
       "      <td>-0.021053</td>\n",
       "      <td>0</td>\n",
       "      <td>0.244964</td>\n",
       "    </tr>\n",
       "    <tr>\n",
       "      <th>1</th>\n",
       "      <td>1.191857</td>\n",
       "      <td>0.266151</td>\n",
       "      <td>0.166480</td>\n",
       "      <td>0.448154</td>\n",
       "      <td>0.060018</td>\n",
       "      <td>-0.082361</td>\n",
       "      <td>-0.078803</td>\n",
       "      <td>0.085102</td>\n",
       "      <td>-0.255425</td>\n",
       "      <td>-0.166974</td>\n",
       "      <td>...</td>\n",
       "      <td>-0.225775</td>\n",
       "      <td>-0.638672</td>\n",
       "      <td>0.101288</td>\n",
       "      <td>-0.339846</td>\n",
       "      <td>0.167170</td>\n",
       "      <td>0.125895</td>\n",
       "      <td>-0.008983</td>\n",
       "      <td>0.014724</td>\n",
       "      <td>0</td>\n",
       "      <td>-0.342475</td>\n",
       "    </tr>\n",
       "    <tr>\n",
       "      <th>2</th>\n",
       "      <td>-1.358354</td>\n",
       "      <td>-1.340163</td>\n",
       "      <td>1.773209</td>\n",
       "      <td>0.379780</td>\n",
       "      <td>-0.503198</td>\n",
       "      <td>1.800499</td>\n",
       "      <td>0.791461</td>\n",
       "      <td>0.247676</td>\n",
       "      <td>-1.514654</td>\n",
       "      <td>0.207643</td>\n",
       "      <td>...</td>\n",
       "      <td>0.247998</td>\n",
       "      <td>0.771679</td>\n",
       "      <td>0.909412</td>\n",
       "      <td>-0.689281</td>\n",
       "      <td>-0.327642</td>\n",
       "      <td>-0.139097</td>\n",
       "      <td>-0.055353</td>\n",
       "      <td>-0.059752</td>\n",
       "      <td>0</td>\n",
       "      <td>1.160686</td>\n",
       "    </tr>\n",
       "    <tr>\n",
       "      <th>3</th>\n",
       "      <td>-0.966272</td>\n",
       "      <td>-0.185226</td>\n",
       "      <td>1.792993</td>\n",
       "      <td>-0.863291</td>\n",
       "      <td>-0.010309</td>\n",
       "      <td>1.247203</td>\n",
       "      <td>0.237609</td>\n",
       "      <td>0.377436</td>\n",
       "      <td>-1.387024</td>\n",
       "      <td>-0.054952</td>\n",
       "      <td>...</td>\n",
       "      <td>-0.108300</td>\n",
       "      <td>0.005274</td>\n",
       "      <td>-0.190321</td>\n",
       "      <td>-1.175575</td>\n",
       "      <td>0.647376</td>\n",
       "      <td>-0.221929</td>\n",
       "      <td>0.062723</td>\n",
       "      <td>0.061458</td>\n",
       "      <td>0</td>\n",
       "      <td>0.140534</td>\n",
       "    </tr>\n",
       "    <tr>\n",
       "      <th>4</th>\n",
       "      <td>-1.158233</td>\n",
       "      <td>0.877737</td>\n",
       "      <td>1.548718</td>\n",
       "      <td>0.403034</td>\n",
       "      <td>-0.407193</td>\n",
       "      <td>0.095921</td>\n",
       "      <td>0.592941</td>\n",
       "      <td>-0.270533</td>\n",
       "      <td>0.817739</td>\n",
       "      <td>0.753074</td>\n",
       "      <td>...</td>\n",
       "      <td>-0.009431</td>\n",
       "      <td>0.798278</td>\n",
       "      <td>-0.137458</td>\n",
       "      <td>0.141267</td>\n",
       "      <td>-0.206010</td>\n",
       "      <td>0.502292</td>\n",
       "      <td>0.219422</td>\n",
       "      <td>0.215153</td>\n",
       "      <td>0</td>\n",
       "      <td>-0.073403</td>\n",
       "    </tr>\n",
       "  </tbody>\n",
       "</table>\n",
       "<p>5 rows × 30 columns</p>\n",
       "</div>"
      ],
      "text/plain": [
       "         V1        V2        V3        V4        V5        V6        V7  \\\n",
       "0 -1.359807 -0.072781  2.536347  1.378155 -0.338321  0.462388  0.239599   \n",
       "1  1.191857  0.266151  0.166480  0.448154  0.060018 -0.082361 -0.078803   \n",
       "2 -1.358354 -1.340163  1.773209  0.379780 -0.503198  1.800499  0.791461   \n",
       "3 -0.966272 -0.185226  1.792993 -0.863291 -0.010309  1.247203  0.237609   \n",
       "4 -1.158233  0.877737  1.548718  0.403034 -0.407193  0.095921  0.592941   \n",
       "\n",
       "         V8        V9       V10  ...       V21       V22       V23       V24  \\\n",
       "0  0.098698  0.363787  0.090794  ... -0.018307  0.277838 -0.110474  0.066928   \n",
       "1  0.085102 -0.255425 -0.166974  ... -0.225775 -0.638672  0.101288 -0.339846   \n",
       "2  0.247676 -1.514654  0.207643  ...  0.247998  0.771679  0.909412 -0.689281   \n",
       "3  0.377436 -1.387024 -0.054952  ... -0.108300  0.005274 -0.190321 -1.175575   \n",
       "4 -0.270533  0.817739  0.753074  ... -0.009431  0.798278 -0.137458  0.141267   \n",
       "\n",
       "        V25       V26       V27       V28  Class  normAmount  \n",
       "0  0.128539 -0.189115  0.133558 -0.021053      0    0.244964  \n",
       "1  0.167170  0.125895 -0.008983  0.014724      0   -0.342475  \n",
       "2 -0.327642 -0.139097 -0.055353 -0.059752      0    1.160686  \n",
       "3  0.647376 -0.221929  0.062723  0.061458      0    0.140534  \n",
       "4 -0.206010  0.502292  0.219422  0.215153      0   -0.073403  \n",
       "\n",
       "[5 rows x 30 columns]"
      ]
     },
     "execution_count": 4,
     "metadata": {},
     "output_type": "execute_result"
    }
   ],
   "source": [
    "# top 5 rows\n",
    "df.head()"
   ]
  },
  {
   "cell_type": "markdown",
   "id": "5de56407",
   "metadata": {
    "papermill": {
     "duration": 0.02771,
     "end_time": "2022-05-21T10:43:43.172979",
     "exception": false,
     "start_time": "2022-05-21T10:43:43.145269",
     "status": "completed"
    },
    "tags": []
   },
   "source": [
    "I prefer to have the target column as the last column in the dataframe as it is easy while splitting the features and target labels which we will do afterwards."
   ]
  },
  {
   "cell_type": "code",
   "execution_count": 5,
   "id": "d69d0340",
   "metadata": {
    "execution": {
     "iopub.execute_input": "2022-05-21T10:43:43.231946Z",
     "iopub.status.busy": "2022-05-21T10:43:43.231697Z",
     "iopub.status.idle": "2022-05-21T10:43:43.237488Z",
     "shell.execute_reply": "2022-05-21T10:43:43.236305Z"
    },
    "papermill": {
     "duration": 0.038452,
     "end_time": "2022-05-21T10:43:43.239741",
     "exception": false,
     "start_time": "2022-05-21T10:43:43.201289",
     "status": "completed"
    },
    "tags": []
   },
   "outputs": [],
   "source": [
    "# function to swap columns in dataframe\n",
    "\n",
    "def swap_columns(df, col1, col2):\n",
    "    col_list = list(df.columns)\n",
    "    a, b = col_list.index(col1), col_list.index(col2)\n",
    "    col_list[b], col_list[a] = col_list[a], col_list[b]\n",
    "    df = df[col_list]\n",
    "    return df"
   ]
  },
  {
   "cell_type": "code",
   "execution_count": 6,
   "id": "b118d5a5",
   "metadata": {
    "execution": {
     "iopub.execute_input": "2022-05-21T10:43:43.296589Z",
     "iopub.status.busy": "2022-05-21T10:43:43.296311Z",
     "iopub.status.idle": "2022-05-21T10:43:43.315426Z",
     "shell.execute_reply": "2022-05-21T10:43:43.314716Z"
    },
    "papermill": {
     "duration": 0.049718,
     "end_time": "2022-05-21T10:43:43.317132",
     "exception": false,
     "start_time": "2022-05-21T10:43:43.267414",
     "status": "completed"
    },
    "tags": []
   },
   "outputs": [],
   "source": [
    "# swapping Class and normAmount columns\n",
    "\n",
    "df = swap_columns(df, 'Class', 'normAmount')"
   ]
  },
  {
   "cell_type": "code",
   "execution_count": 7,
   "id": "1b84d80b",
   "metadata": {
    "execution": {
     "iopub.execute_input": "2022-05-21T10:43:43.374518Z",
     "iopub.status.busy": "2022-05-21T10:43:43.374254Z",
     "iopub.status.idle": "2022-05-21T10:43:43.397254Z",
     "shell.execute_reply": "2022-05-21T10:43:43.396253Z"
    },
    "papermill": {
     "duration": 0.054112,
     "end_time": "2022-05-21T10:43:43.399121",
     "exception": false,
     "start_time": "2022-05-21T10:43:43.345009",
     "status": "completed"
    },
    "tags": []
   },
   "outputs": [
    {
     "data": {
      "text/html": [
       "<div>\n",
       "<style scoped>\n",
       "    .dataframe tbody tr th:only-of-type {\n",
       "        vertical-align: middle;\n",
       "    }\n",
       "\n",
       "    .dataframe tbody tr th {\n",
       "        vertical-align: top;\n",
       "    }\n",
       "\n",
       "    .dataframe thead th {\n",
       "        text-align: right;\n",
       "    }\n",
       "</style>\n",
       "<table border=\"1\" class=\"dataframe\">\n",
       "  <thead>\n",
       "    <tr style=\"text-align: right;\">\n",
       "      <th></th>\n",
       "      <th>V1</th>\n",
       "      <th>V2</th>\n",
       "      <th>V3</th>\n",
       "      <th>V4</th>\n",
       "      <th>V5</th>\n",
       "      <th>V6</th>\n",
       "      <th>V7</th>\n",
       "      <th>V8</th>\n",
       "      <th>V9</th>\n",
       "      <th>V10</th>\n",
       "      <th>...</th>\n",
       "      <th>V21</th>\n",
       "      <th>V22</th>\n",
       "      <th>V23</th>\n",
       "      <th>V24</th>\n",
       "      <th>V25</th>\n",
       "      <th>V26</th>\n",
       "      <th>V27</th>\n",
       "      <th>V28</th>\n",
       "      <th>normAmount</th>\n",
       "      <th>Class</th>\n",
       "    </tr>\n",
       "  </thead>\n",
       "  <tbody>\n",
       "    <tr>\n",
       "      <th>0</th>\n",
       "      <td>-1.359807</td>\n",
       "      <td>-0.072781</td>\n",
       "      <td>2.536347</td>\n",
       "      <td>1.378155</td>\n",
       "      <td>-0.338321</td>\n",
       "      <td>0.462388</td>\n",
       "      <td>0.239599</td>\n",
       "      <td>0.098698</td>\n",
       "      <td>0.363787</td>\n",
       "      <td>0.090794</td>\n",
       "      <td>...</td>\n",
       "      <td>-0.018307</td>\n",
       "      <td>0.277838</td>\n",
       "      <td>-0.110474</td>\n",
       "      <td>0.066928</td>\n",
       "      <td>0.128539</td>\n",
       "      <td>-0.189115</td>\n",
       "      <td>0.133558</td>\n",
       "      <td>-0.021053</td>\n",
       "      <td>0.244964</td>\n",
       "      <td>0</td>\n",
       "    </tr>\n",
       "  </tbody>\n",
       "</table>\n",
       "<p>1 rows × 30 columns</p>\n",
       "</div>"
      ],
      "text/plain": [
       "         V1        V2        V3        V4        V5        V6        V7  \\\n",
       "0 -1.359807 -0.072781  2.536347  1.378155 -0.338321  0.462388  0.239599   \n",
       "\n",
       "         V8        V9       V10  ...       V21       V22       V23       V24  \\\n",
       "0  0.098698  0.363787  0.090794  ... -0.018307  0.277838 -0.110474  0.066928   \n",
       "\n",
       "        V25       V26       V27       V28  normAmount  Class  \n",
       "0  0.128539 -0.189115  0.133558 -0.021053    0.244964      0  \n",
       "\n",
       "[1 rows x 30 columns]"
      ]
     },
     "execution_count": 7,
     "metadata": {},
     "output_type": "execute_result"
    }
   ],
   "source": [
    "# top 1 row\n",
    "\n",
    "df.head(1)"
   ]
  },
  {
   "cell_type": "markdown",
   "id": "7fca773c",
   "metadata": {
    "papermill": {
     "duration": 0.027667,
     "end_time": "2022-05-21T10:43:43.455174",
     "exception": false,
     "start_time": "2022-05-21T10:43:43.427507",
     "status": "completed"
    },
    "tags": []
   },
   "source": [
    "Calculating the proportions of the target variable"
   ]
  },
  {
   "cell_type": "code",
   "execution_count": 8,
   "id": "63932f1f",
   "metadata": {
    "execution": {
     "iopub.execute_input": "2022-05-21T10:43:43.514119Z",
     "iopub.status.busy": "2022-05-21T10:43:43.513854Z",
     "iopub.status.idle": "2022-05-21T10:43:43.525159Z",
     "shell.execute_reply": "2022-05-21T10:43:43.524317Z"
    },
    "papermill": {
     "duration": 0.043013,
     "end_time": "2022-05-21T10:43:43.526660",
     "exception": false,
     "start_time": "2022-05-21T10:43:43.483647",
     "status": "completed"
    },
    "tags": []
   },
   "outputs": [
    {
     "data": {
      "text/plain": [
       "0    284315\n",
       "1       492\n",
       "Name: Class, dtype: int64"
      ]
     },
     "execution_count": 8,
     "metadata": {},
     "output_type": "execute_result"
    }
   ],
   "source": [
    "df['Class'].value_counts()"
   ]
  },
  {
   "cell_type": "code",
   "execution_count": 9,
   "id": "0a0b6bdf",
   "metadata": {
    "execution": {
     "iopub.execute_input": "2022-05-21T10:43:43.585025Z",
     "iopub.status.busy": "2022-05-21T10:43:43.584744Z",
     "iopub.status.idle": "2022-05-21T10:43:43.736301Z",
     "shell.execute_reply": "2022-05-21T10:43:43.735782Z"
    },
    "papermill": {
     "duration": 0.182727,
     "end_time": "2022-05-21T10:43:43.737947",
     "exception": false,
     "start_time": "2022-05-21T10:43:43.555220",
     "status": "completed"
    },
    "tags": []
   },
   "outputs": [
    {
     "data": {
      "text/plain": [
       "<AxesSubplot:xlabel='Class', ylabel='count'>"
      ]
     },
     "execution_count": 9,
     "metadata": {},
     "output_type": "execute_result"
    },
    {
     "data": {
      "image/png": "[encoded data removed]",
      "text/plain": [
       "<Figure size 432x288 with 1 Axes>"
      ]
     },
     "metadata": {
      "needs_background": "light"
     },
     "output_type": "display_data"
    }
   ],
   "source": [
    "# visualizing the result\n",
    "sns.countplot(data = df, x = 'Class')"
   ]
  },
  {
   "cell_type": "markdown",
   "id": "e2134469",
   "metadata": {
    "papermill": {
     "duration": 0.029819,
     "end_time": "2022-05-21T10:43:43.801692",
     "exception": false,
     "start_time": "2022-05-21T10:43:43.771873",
     "status": "completed"
    },
    "tags": []
   },
   "source": [
    "Clearly there is a significant different in the count of the two classes. This means the dataset is imbalanced.\n",
    "\n",
    "We cannot train our future model with the imbalanced dataset. There is a way to handle the imbalanced dataset i.e., **Resampling**.\n",
    "\n",
    "* Resampling is a series of techniques used in statistics to gather more information about a sample.\n",
    "\n",
    "However we will apply resampling only on the training dataset. So, let us split the data first."
   ]
  },
  {
   "cell_type": "markdown",
   "id": "585b618f",
   "metadata": {
    "papermill": {
     "duration": 0.029691,
     "end_time": "2022-05-21T10:43:43.861066",
     "exception": false,
     "start_time": "2022-05-21T10:43:43.831375",
     "status": "completed"
    },
    "tags": []
   },
   "source": [
    "# Splitting the dataset"
   ]
  },
  {
   "cell_type": "code",
   "execution_count": 10,
   "id": "79d168e5",
   "metadata": {
    "execution": {
     "iopub.execute_input": "2022-05-21T10:43:43.923093Z",
     "iopub.status.busy": "2022-05-21T10:43:43.922560Z",
     "iopub.status.idle": "2022-05-21T10:43:43.941824Z",
     "shell.execute_reply": "2022-05-21T10:43:43.940953Z"
    },
    "papermill": {
     "duration": 0.052404,
     "end_time": "2022-05-21T10:43:43.943691",
     "exception": false,
     "start_time": "2022-05-21T10:43:43.891287",
     "status": "completed"
    },
    "tags": []
   },
   "outputs": [],
   "source": [
    "# X --> Feature columns, y --> Target column\n",
    "\n",
    "X = df.iloc[:,:-1]\n",
    "y = df.iloc[:,-1]"
   ]
  },
  {
   "cell_type": "code",
   "execution_count": 11,
   "id": "e007948d",
   "metadata": {
    "execution": {
     "iopub.execute_input": "2022-05-21T10:43:44.005512Z",
     "iopub.status.busy": "2022-05-21T10:43:44.004635Z",
     "iopub.status.idle": "2022-05-21T10:43:44.195039Z",
     "shell.execute_reply": "2022-05-21T10:43:44.194379Z"
    },
    "papermill": {
     "duration": 0.224226,
     "end_time": "2022-05-21T10:43:44.197676",
     "exception": false,
     "start_time": "2022-05-21T10:43:43.973450",
     "status": "completed"
    },
    "tags": []
   },
   "outputs": [],
   "source": [
    "# splitting the training and testing dataset\n",
    "\n",
    "from sklearn.model_selection import train_test_split\n",
    "X_train, X_test, y_train, y_test = train_test_split(X, y,\n",
    "                                                    test_size = 0.2, \n",
    "                                                    stratify = y,\n",
    "                                                    random_state = 42)"
   ]
  },
  {
   "cell_type": "markdown",
   "id": "2e1c0844",
   "metadata": {
    "papermill": {
     "duration": 0.045826,
     "end_time": "2022-05-21T10:43:44.289736",
     "exception": false,
     "start_time": "2022-05-21T10:43:44.243910",
     "status": "completed"
    },
    "tags": []
   },
   "source": [
    "* **stratify** parameter makes a split so that the proportion of values in the sample produced will be the same as the proportion of values provided to parameter stratify."
   ]
  },
  {
   "cell_type": "code",
   "execution_count": 12,
   "id": "2085fe28",
   "metadata": {
    "execution": {
     "iopub.execute_input": "2022-05-21T10:43:44.383569Z",
     "iopub.status.busy": "2022-05-21T10:43:44.383301Z",
     "iopub.status.idle": "2022-05-21T10:43:44.393010Z",
     "shell.execute_reply": "2022-05-21T10:43:44.391934Z"
    },
    "papermill": {
     "duration": 0.05861,
     "end_time": "2022-05-21T10:43:44.394875",
     "exception": false,
     "start_time": "2022-05-21T10:43:44.336265",
     "status": "completed"
    },
    "tags": []
   },
   "outputs": [
    {
     "name": "stdout",
     "output_type": "stream",
     "text": [
      "Training Dataset: \n",
      " 0    227451\n",
      "1       394\n",
      "Name: Class, dtype: int64\n",
      "\n",
      "Testing Dataset: \n",
      " 0    56864\n",
      "1       98\n",
      "Name: Class, dtype: int64\n"
     ]
    }
   ],
   "source": [
    "# checking for proportions of normal and fraud transactions in training and testing datasets\n",
    "print('Training Dataset: \\n', pd.value_counts(y_train))\n",
    "print('\\nTesting Dataset: \\n', pd.value_counts(y_test))"
   ]
  },
  {
   "cell_type": "markdown",
   "id": "03ac31ad",
   "metadata": {
    "papermill": {
     "duration": 0.02986,
     "end_time": "2022-05-21T10:43:44.455784",
     "exception": false,
     "start_time": "2022-05-21T10:43:44.425924",
     "status": "completed"
    },
    "tags": []
   },
   "source": [
    "The dataset is divided into equal class proportions. Now we have to do the resampling.\n",
    "\n",
    "Generally, there are two types of resampling methods.\n",
    "1. Random Oversampling\n",
    "2. Random Undersampling\n",
    "\n",
    "However, resampling has drawbacks, especially when the target class is as highly imbalanced as in our case.\n",
    "\n",
    "Firstly, oversampling the minority class might lead to overfitting, i.e. the model learns patterns that only exist in the particular sample that has been oversampled.\n",
    "\n",
    "Secondly, undersampling the majority class might lead to underfitting, i.e. the model fails to capture the general pattern in the data."
   ]
  },
  {
   "cell_type": "markdown",
   "id": "f64fb978",
   "metadata": {
    "execution": {
     "iopub.execute_input": "2022-05-21T10:17:26.146102Z",
     "iopub.status.busy": "2022-05-21T10:17:26.145145Z",
     "iopub.status.idle": "2022-05-21T10:17:26.151895Z",
     "shell.execute_reply": "2022-05-21T10:17:26.150821Z",
     "shell.execute_reply.started": "2022-05-21T10:17:26.146065Z"
    },
    "papermill": {
     "duration": 0.028997,
     "end_time": "2022-05-21T10:43:44.515006",
     "exception": false,
     "start_time": "2022-05-21T10:43:44.486009",
     "status": "completed"
    },
    "tags": []
   },
   "source": [
    "There are many variations of resampling. We will use **Synthetic Minority Oversampling Technique (SMOTE)** which uses oversampling method.\n",
    "\n",
    "Also there is **Near Miss Algorithm** which uses undersampling method. In this case, we will use SMOTE."
   ]
  },
  {
   "cell_type": "markdown",
   "id": "bbafcbf6",
   "metadata": {
    "papermill": {
     "duration": 0.029807,
     "end_time": "2022-05-21T10:43:44.574883",
     "exception": false,
     "start_time": "2022-05-21T10:43:44.545076",
     "status": "completed"
    },
    "tags": []
   },
   "source": [
    "# Resampling the Dataset using SMOTE"
   ]
  },
  {
   "cell_type": "code",
   "execution_count": 13,
   "id": "fc272b5d",
   "metadata": {
    "execution": {
     "iopub.execute_input": "2022-05-21T10:43:44.637519Z",
     "iopub.status.busy": "2022-05-21T10:43:44.637050Z",
     "iopub.status.idle": "2022-05-21T10:43:45.189755Z",
     "shell.execute_reply": "2022-05-21T10:43:45.188720Z"
    },
    "papermill": {
     "duration": 0.586557,
     "end_time": "2022-05-21T10:43:45.192186",
     "exception": false,
     "start_time": "2022-05-21T10:43:44.605629",
     "status": "completed"
    },
    "tags": []
   },
   "outputs": [],
   "source": [
    "from imblearn.over_sampling import SMOTE\n",
    "\n",
    "sm = SMOTE(random_state = 42)\n",
    "\n",
    "# resampling training data\n",
    "X_train_os, y_train_os = sm.fit_resample(X_train, y_train.ravel())"
   ]
  },
  {
   "cell_type": "code",
   "execution_count": 14,
   "id": "c5f52c96",
   "metadata": {
    "execution": {
     "iopub.execute_input": "2022-05-21T10:43:45.253261Z",
     "iopub.status.busy": "2022-05-21T10:43:45.253018Z",
     "iopub.status.idle": "2022-05-21T10:43:45.260765Z",
     "shell.execute_reply": "2022-05-21T10:43:45.259672Z"
    },
    "papermill": {
     "duration": 0.041089,
     "end_time": "2022-05-21T10:43:45.263009",
     "exception": false,
     "start_time": "2022-05-21T10:43:45.221920",
     "status": "completed"
    },
    "tags": []
   },
   "outputs": [
    {
     "name": "stdout",
     "output_type": "stream",
     "text": [
      "Number of Normal Transactions before oversampling:  227451\n",
      "Number of Fraud Transactions before oversampling:  394\n"
     ]
    }
   ],
   "source": [
    "# number of rows containing normal and fraud transactions before oversampling\n",
    "print('Number of Normal Transactions before oversampling: ',len(y_train[y_train == 0]))\n",
    "print('Number of Fraud Transactions before oversampling: ',len(y_train[y_train == 1]))"
   ]
  },
  {
   "cell_type": "code",
   "execution_count": 15,
   "id": "6ab40818",
   "metadata": {
    "execution": {
     "iopub.execute_input": "2022-05-21T10:43:45.327208Z",
     "iopub.status.busy": "2022-05-21T10:43:45.326456Z",
     "iopub.status.idle": "2022-05-21T10:43:45.334388Z",
     "shell.execute_reply": "2022-05-21T10:43:45.333219Z"
    },
    "papermill": {
     "duration": 0.041356,
     "end_time": "2022-05-21T10:43:45.336206",
     "exception": false,
     "start_time": "2022-05-21T10:43:45.294850",
     "status": "completed"
    },
    "tags": []
   },
   "outputs": [
    {
     "name": "stdout",
     "output_type": "stream",
     "text": [
      "Number of Normal Transactions after oversampling:  227451\n",
      "Number of Fraud Transactions after oversampling:  227451\n"
     ]
    }
   ],
   "source": [
    "# number of rows containing normal and fraud transactions after oversampling\n",
    "print('Number of Normal Transactions after oversampling: ',len(y_train_os[y_train_os == 0]))\n",
    "print('Number of Fraud Transactions after oversampling: ',len(y_train_os[y_train_os == 1]))"
   ]
  },
  {
   "cell_type": "markdown",
   "id": "e253673e",
   "metadata": {
    "papermill": {
     "duration": 0.030407,
     "end_time": "2022-05-21T10:43:45.397689",
     "exception": false,
     "start_time": "2022-05-21T10:43:45.367282",
     "status": "completed"
    },
    "tags": []
   },
   "source": [
    "# Training XGBoost model on the resampled training dataset"
   ]
  },
  {
   "cell_type": "markdown",
   "id": "cfc721ee",
   "metadata": {
    "papermill": {
     "duration": 0.03057,
     "end_time": "2022-05-21T10:43:45.459767",
     "exception": false,
     "start_time": "2022-05-21T10:43:45.429197",
     "status": "completed"
    },
    "tags": []
   },
   "source": [
    "As we have sufficient data, we can proceed further to train the model. I chose XGBoost model."
   ]
  },
  {
   "cell_type": "code",
   "execution_count": 16,
   "id": "498d1e77",
   "metadata": {
    "execution": {
     "iopub.execute_input": "2022-05-21T10:43:45.525032Z",
     "iopub.status.busy": "2022-05-21T10:43:45.523956Z",
     "iopub.status.idle": "2022-05-21T10:45:25.325299Z",
     "shell.execute_reply": "2022-05-21T10:45:25.324308Z"
    },
    "papermill": {
     "duration": 99.864965,
     "end_time": "2022-05-21T10:45:25.357010",
     "exception": false,
     "start_time": "2022-05-21T10:43:45.492045",
     "status": "completed"
    },
    "tags": []
   },
   "outputs": [
    {
     "data": {
      "text/plain": [
       "XGBClassifier(base_score=0.5, booster='gbtree', callbacks=None,\n",
       "              colsample_bylevel=1, colsample_bynode=1, colsample_bytree=1,\n",
       "              early_stopping_rounds=None, enable_categorical=False,\n",
       "              eval_metric=None, gamma=0, gpu_id=-1, grow_policy='depthwise',\n",
       "              importance_type=None, interaction_constraints='',\n",
       "              learning_rate=0.300000012, max_bin=256, max_cat_to_onehot=4,\n",
       "              max_delta_step=0, max_depth=6, max_leaves=0, min_child_weight=1,\n",
       "              missing=nan, monotone_constraints='()', n_estimators=100,\n",
       "              n_jobs=0, num_parallel_tree=1, predictor='auto', random_state=42,\n",
       "              reg_alpha=0, reg_lambda=1, ...)"
      ]
     },
     "execution_count": 16,
     "metadata": {},
     "output_type": "execute_result"
    }
   ],
   "source": [
    "from xgboost import XGBClassifier\n",
    "clf = XGBClassifier(objective = 'binary:logistic', random_state = 42)\n",
    "\n",
    "# fitting the resampled training dataset\n",
    "clf.fit(X_train_os, y_train_os)"
   ]
  },
  {
   "cell_type": "markdown",
   "id": "668a74f5",
   "metadata": {
    "papermill": {
     "duration": 0.030806,
     "end_time": "2022-05-21T10:45:25.418698",
     "exception": false,
     "start_time": "2022-05-21T10:45:25.387892",
     "status": "completed"
    },
    "tags": []
   },
   "source": [
    "# Evaluating the model"
   ]
  },
  {
   "cell_type": "code",
   "execution_count": 17,
   "id": "3a1c34db",
   "metadata": {
    "execution": {
     "iopub.execute_input": "2022-05-21T10:45:25.481845Z",
     "iopub.status.busy": "2022-05-21T10:45:25.481515Z",
     "iopub.status.idle": "2022-05-21T10:45:25.550219Z",
     "shell.execute_reply": "2022-05-21T10:45:25.549449Z"
    },
    "papermill": {
     "duration": 0.102713,
     "end_time": "2022-05-21T10:45:25.552316",
     "exception": false,
     "start_time": "2022-05-21T10:45:25.449603",
     "status": "completed"
    },
    "tags": []
   },
   "outputs": [],
   "source": [
    "# testing the model on testing dataset\n",
    "y_pred = clf.predict(X_test)"
   ]
  },
  {
   "cell_type": "markdown",
   "id": "bb6c0519",
   "metadata": {
    "papermill": {
     "duration": 0.030758,
     "end_time": "2022-05-21T10:45:25.614756",
     "exception": false,
     "start_time": "2022-05-21T10:45:25.583998",
     "status": "completed"
    },
    "tags": []
   },
   "source": [
    "## Confusion Matrix"
   ]
  },
  {
   "cell_type": "code",
   "execution_count": 18,
   "id": "bda6b440",
   "metadata": {
    "execution": {
     "iopub.execute_input": "2022-05-21T10:45:25.678876Z",
     "iopub.status.busy": "2022-05-21T10:45:25.678507Z",
     "iopub.status.idle": "2022-05-21T10:45:25.695226Z",
     "shell.execute_reply": "2022-05-21T10:45:25.694116Z"
    },
    "papermill": {
     "duration": 0.051343,
     "end_time": "2022-05-21T10:45:25.697328",
     "exception": false,
     "start_time": "2022-05-21T10:45:25.645985",
     "status": "completed"
    },
    "tags": []
   },
   "outputs": [
    {
     "name": "stdout",
     "output_type": "stream",
     "text": [
      "[[56831    33]\n",
      " [   11    87]]\n",
      "Accuracy of the testing data is: 99.92 %\n"
     ]
    }
   ],
   "source": [
    "from sklearn.metrics import confusion_matrix, accuracy_score\n",
    "cm = confusion_matrix(y_test, y_pred)\n",
    "print(cm)\n",
    "print('Accuracy of the testing data is: {:.2f} %'.format(accuracy_score(y_test, y_pred)*100))"
   ]
  },
  {
   "cell_type": "markdown",
   "id": "75f69bad",
   "metadata": {
    "papermill": {
     "duration": 0.031004,
     "end_time": "2022-05-21T10:45:25.760038",
     "exception": false,
     "start_time": "2022-05-21T10:45:25.729034",
     "status": "completed"
    },
    "tags": []
   },
   "source": [
    "Even though the accuracy is almost 100% we can see there are still some missclassified points.\n",
    "\n",
    "33 were classified as **False Positives** (classified as Fraud while they are Normal transactions)\n",
    "\n",
    "11 were classified as **False Negatives** (classified as Normal while they are Fraud transactions)\n",
    "\n",
    "We have to be careful about False Negatives as they affect a lot. So the accuracy is not the merit we are looking for.\n",
    "\n",
    "Rather we use **Precision (for False Positives), Recall (for False Negatives), and F-Score (for both the affects)**"
   ]
  },
  {
   "cell_type": "markdown",
   "id": "8699588f",
   "metadata": {
    "papermill": {
     "duration": 0.030617,
     "end_time": "2022-05-21T10:45:25.822242",
     "exception": false,
     "start_time": "2022-05-21T10:45:25.791625",
     "status": "completed"
    },
    "tags": []
   },
   "source": [
    "## Precision, Recall, and F-Score"
   ]
  },
  {
   "cell_type": "code",
   "execution_count": 19,
   "id": "f9b8e0a0",
   "metadata": {
    "execution": {
     "iopub.execute_input": "2022-05-21T10:45:25.887528Z",
     "iopub.status.busy": "2022-05-21T10:45:25.887218Z",
     "iopub.status.idle": "2022-05-21T10:45:25.925298Z",
     "shell.execute_reply": "2022-05-21T10:45:25.924126Z"
    },
    "papermill": {
     "duration": 0.073558,
     "end_time": "2022-05-21T10:45:25.927606",
     "exception": false,
     "start_time": "2022-05-21T10:45:25.854048",
     "status": "completed"
    },
    "tags": []
   },
   "outputs": [
    {
     "name": "stdout",
     "output_type": "stream",
     "text": [
      "Precision is: 72.50 %\n",
      "Recall is: 88.78 %\n",
      "F-score is: 79.82 %\n"
     ]
    }
   ],
   "source": [
    "from sklearn.metrics import precision_score, recall_score, f1_score\n",
    "\n",
    "print('Precision is: {:.2f} %'.format(precision_score(y_test, y_pred)*100))\n",
    "print('Recall is: {:.2f} %'.format(recall_score(y_test, y_pred)*100))\n",
    "print('F-score is: {:.2f} %'.format(f1_score(y_test, y_pred)*100))"
   ]
  },
  {
   "cell_type": "markdown",
   "id": "a222b066",
   "metadata": {
    "papermill": {
     "duration": 0.049187,
     "end_time": "2022-05-21T10:45:26.026869",
     "exception": false,
     "start_time": "2022-05-21T10:45:25.977682",
     "status": "completed"
    },
    "tags": []
   },
   "source": [
    "When dealing with the imbalanced dataset it is always better to use **'AUPRC'** as a metric."
   ]
  },
  {
   "cell_type": "markdown",
   "id": "22e6211f",
   "metadata": {
    "papermill": {
     "duration": 0.031572,
     "end_time": "2022-05-21T10:45:26.091865",
     "exception": false,
     "start_time": "2022-05-21T10:45:26.060293",
     "status": "completed"
    },
    "tags": []
   },
   "source": [
    "## Area Under Precision-Recall Curve"
   ]
  },
  {
   "cell_type": "code",
   "execution_count": 20,
   "id": "b7cbbae6",
   "metadata": {
    "execution": {
     "iopub.execute_input": "2022-05-21T10:45:26.157033Z",
     "iopub.status.busy": "2022-05-21T10:45:26.156135Z",
     "iopub.status.idle": "2022-05-21T10:45:26.167555Z",
     "shell.execute_reply": "2022-05-21T10:45:26.166895Z"
    },
    "papermill": {
     "duration": 0.046174,
     "end_time": "2022-05-21T10:45:26.169528",
     "exception": false,
     "start_time": "2022-05-21T10:45:26.123354",
     "status": "completed"
    },
    "tags": []
   },
   "outputs": [
    {
     "name": "stdout",
     "output_type": "stream",
     "text": [
      "Area under the Precision-Recall Curve is: 94.36 %\n"
     ]
    }
   ],
   "source": [
    "from sklearn.metrics import roc_auc_score\n",
    "acc_score = roc_auc_score(y_test, y_pred)\n",
    "print('Area under the Precision-Recall Curve is: {:.2f} %'.format(acc_score*100))"
   ]
  }
 ],
 "metadata": {
  "kernelspec": {
   "display_name": "Python 3",
   "language": "python",
   "name": "python3"
  },
  "language_info": {
   "codemirror_mode": {
    "name": "ipython",
    "version": 3
   },
   "file_extension": ".py",
   "mimetype": "text/x-python",
   "name": "python",
   "nbconvert_exporter": "python",
   "pygments_lexer": "ipython3",
   "version": "3.7.12"
  },
  "papermill": {
   "default_parameters": {},
   "duration": 117.249631,
   "end_time": "2022-05-21T10:45:26.921199",
   "environment_variables": {},
   "exception": null,
   "input_path": "__notebook__.ipynb",
   "output_path": "__notebook__.ipynb",
   "parameters": {},
   "start_time": "2022-05-21T10:43:29.671568",
   "version": "2.3.4"
  }
 },
 "nbformat": 4,
 "nbformat_minor": 5
}
